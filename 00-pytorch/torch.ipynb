{
 "cells": [
  {
   "cell_type": "code",
   "execution_count": 32,
   "id": "8f97aee0",
   "metadata": {},
   "outputs": [
    {
     "name": "stdout",
     "output_type": "stream",
     "text": [
      "tensor([[-0.4075],\n",
      "        [ 0.0516],\n",
      "        [-0.6225]])\n",
      "tensor([[-1.2657,  0.9715, -0.0522,  0.4691],\n",
      "        [ 0.1612,  0.3254, -0.3914,  0.6854],\n",
      "        [-1.6571,  0.3104, -0.7702,  0.8384]])\n",
      "tensor([[ 0.5158, -0.3959,  0.0213, -0.1912],\n",
      "        [ 0.0083,  0.0168, -0.0202,  0.0354],\n",
      "        [ 1.0316, -0.1933,  0.4795, -0.5219]])\n"
     ]
    }
   ],
   "source": [
    "import torch\n",
    "import torch.nn as nn\n",
    "a=torch.normal(0,1,size=(3,1))\n",
    "b=torch.normal(0,1,size=(3,4))\n",
    "print(a)\n",
    "print(b)\n",
    "print(a*b)"
   ]
  }
 ],
 "metadata": {
  "kernelspec": {
   "display_name": "Python 3",
   "language": "python",
   "name": "python3"
  },
  "language_info": {
   "codemirror_mode": {
    "name": "ipython",
    "version": 3
   },
   "file_extension": ".py",
   "mimetype": "text/x-python",
   "name": "python",
   "nbconvert_exporter": "python",
   "pygments_lexer": "ipython3",
   "version": "3.10.12"
  }
 },
 "nbformat": 4,
 "nbformat_minor": 5
}
